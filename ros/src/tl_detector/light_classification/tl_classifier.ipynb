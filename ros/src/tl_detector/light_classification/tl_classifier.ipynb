{
 "cells": [
  {
   "cell_type": "code",
   "execution_count": null,
   "metadata": {},
   "outputs": [],
   "source": [
    "import cv2\n",
    "import numpy as np\n",
    "import pandas as pd\n",
    "from keras.layers import Cropping2D\n",
    "from scipy import ndimage\n",
    "from keras.utils import np_utils\n",
    "from sklearn.preprocessing import LabelEncoder\n",
    "\n",
    "factor = 1.0 / 4.0\n",
    "\n",
    "def resize(image):\n",
    "    return cv2.resize(image, dsize=None, fx=factor, fy=factor)\n",
    "\n",
    "\n",
    "def preprocess(image):\n",
    "    return resize(image)\n",
    "\n",
    "\n",
    "def create_Cropping2D():\n",
    "    return Cropping2D(cropping=((int(70 * factor), int(25 * factor)), (0, 0)))\n",
    "\n",
    "\n",
    "def get_input_shape():\n",
    "    width = 800\n",
    "    height = 600\n",
    "    return (int(height * factor), int(width * factor), 3)\n",
    "\n",
    "\n",
    "def get_images_and_measurements():\n",
    "    def read_and_preprocess(image_file):\n",
    "        return preprocess(ndimage.imread(image_file))\n",
    "    \n",
    "    items = ['images/img_0001_RED.jpg', 'images/img_0002_RED.jpg', 'images/img_0168_GREEN.jpg', 'images/img_0205_NO_TRAFFIC_LIGHT.jpg']\n",
    "    images = list(map(read_and_preprocess, items))\n",
    "    # encode class values as integers\n",
    "    encoder = LabelEncoder()\n",
    "    Y = ['RED', 'RED', 'GREEN', 'NO_TRAFFIC_LIGHT']\n",
    "    encoder.fit(Y)\n",
    "    encoded_Y = encoder.transform(Y)\n",
    "    return images, np_utils.to_categorical(encoded_Y, 3)\n",
    "\n",
    "def flip_image(image):\n",
    "    return np.fliplr(image)\n",
    "\n",
    "\n",
    "def flip_measurement(measurement):\n",
    "    return -measurement\n",
    "\n",
    "\n",
    "def flip_images(images):\n",
    "    return map(flip_image, images)\n",
    "\n",
    "\n",
    "def flip_measurements(measurements):\n",
    "    return map(flip_measurement, measurements)\n",
    "\n",
    "\n",
    "def get_steering_left(steering_center):\n",
    "    return steering_center + 0.2\n",
    "\n",
    "\n",
    "def get_steering_right(steering_center):\n",
    "    return steering_center - 0.2"
   ]
  },
  {
   "cell_type": "code",
   "execution_count": null,
   "metadata": {},
   "outputs": [],
   "source": [
    "import numpy as np\n",
    "from keras.callbacks import ModelCheckpoint\n",
    "from keras.layers import Flatten, Dense, Lambda, MaxPooling2D\n",
    "from keras.layers.convolutional import Convolution2D\n",
    "from keras.models import Sequential\n",
    "\n",
    "def get_X_train_y_train():\n",
    "    images, measurements = get_images_and_measurements()\n",
    "    X_train = np.array(images)\n",
    "    y_train = np.array(measurements)\n",
    "    return X_train, y_train\n",
    "\n",
    "\n",
    "def create_model_simple():\n",
    "    model = Sequential()\n",
    "    model.add(Flatten(input_shape=get_input_shape()))\n",
    "    model.add(Dense(3, activation=\"softmax\"))\n",
    "    return model\n",
    "\n",
    "\n",
    "def create_model_LeNet():\n",
    "    model = Sequential()\n",
    "    model.add(Lambda(lambda image: image / 255.0 - 0.5, input_shape=get_input_shape()))\n",
    "    model.add(create_Cropping2D())\n",
    "    model.add(Convolution2D(6, 5, 5, activation='relu'))\n",
    "    model.add(MaxPooling2D())\n",
    "    model.add(Convolution2D(6, 5, 5, activation='relu'))\n",
    "    model.add(MaxPooling2D())\n",
    "    model.add(Flatten())\n",
    "    model.add(Dense(120))\n",
    "    model.add(Dense(84))\n",
    "    model.add(Dense(3, activation=\"softmax\"))\n",
    "    return model\n",
    "\n",
    "\n",
    "def create_model_Nvidia():\n",
    "    model = Sequential()\n",
    "    model.add(Lambda(lambda image: image / 255.0 - 0.5, input_shape=get_input_shape()))\n",
    "    model.add(create_Cropping2D())\n",
    "    model.add(Convolution2D(24, 5, 5, subsample=(2, 2), activation='relu'))\n",
    "    model.add(Convolution2D(64, 3, 3, activation='relu'))\n",
    "    model.add(Convolution2D(64, 3, 3, activation='relu'))\n",
    "    model.add(Flatten())\n",
    "    model.add(Dense(100))\n",
    "    model.add(Dense(50))\n",
    "    model.add(Dense(10))\n",
    "    model.add(Dense(3, activation=\"softmax\"))\n",
    "    return model\n",
    "\n",
    "\n",
    "def train(model, X, y, save_model_2_file):\n",
    "    model.compile(loss='categorical_crossentropy', optimizer='adam', metrics=['accuracy'])\n",
    "    history_object = model.fit(X,\n",
    "                               y,\n",
    "                               validation_split=0.2,\n",
    "                               shuffle=True,\n",
    "                               callbacks=[ModelCheckpoint(filepath=save_model_2_file, verbose=1, save_best_only=True)],\n",
    "                               epochs=5,\n",
    "                               verbose=1)\n",
    "    return history_object"
   ]
  },
  {
   "cell_type": "code",
   "execution_count": null,
   "metadata": {},
   "outputs": [],
   "source": [
    "import matplotlib.pyplot as plt\n",
    "# Visualizations will be shown in the notebook.\n",
    "%matplotlib inline"
   ]
  },
  {
   "cell_type": "code",
   "execution_count": null,
   "metadata": {},
   "outputs": [],
   "source": [
    "def plot_model(model, to_file):\n",
    "    from keras.utils import plot_model\n",
    "    from IPython.display import Image\n",
    "    plot_model(model, show_shapes=True, show_layer_names=False, rankdir='TB', to_file=to_file)\n",
    "    return Image(filename=to_file)"
   ]
  },
  {
   "cell_type": "code",
   "execution_count": null,
   "metadata": {
    "scrolled": true
   },
   "outputs": [],
   "source": [
    "model = create_model_Nvidia()\n",
    "plot_model(model, \"examples/model_nvidia.jpg\")"
   ]
  },
  {
   "cell_type": "code",
   "execution_count": null,
   "metadata": {},
   "outputs": [],
   "source": [
    "import numpy as np\n",
    "from scipy import ndimage\n",
    "from scipy.misc import imsave\n",
    "\n",
    "image = ndimage.imread('images/img_0001_RED.jpg')\n",
    "plt.imshow(image)\n",
    "plt.show()\n",
    "\n",
    "preprocessed_image = preprocess(image)\n",
    "plt.imshow(preprocessed_image)\n",
    "imsave('examples/center_2016_12_01_13_31_15_308_quartered.jpg', preprocessed_image)\n",
    "plt.show()"
   ]
  },
  {
   "cell_type": "code",
   "execution_count": null,
   "metadata": {},
   "outputs": [],
   "source": [
    "def plot_loss(history_object, savefile):\n",
    "    plt.plot(history_object.history['loss'])\n",
    "    plt.plot(history_object.history['val_loss'])\n",
    "    plt.title('model mean squared error loss')\n",
    "    plt.ylabel('mean squared error loss')\n",
    "    plt.xlabel('epoch')\n",
    "    plt.legend(['training set', 'validation set'], loc='upper right')\n",
    "    plt.savefig(savefile)\n",
    "    plt.show()"
   ]
  },
  {
   "cell_type": "code",
   "execution_count": null,
   "metadata": {},
   "outputs": [],
   "source": [
    "X_train, y_train = get_X_train_y_train()"
   ]
  },
  {
   "cell_type": "code",
   "execution_count": null,
   "metadata": {
    "scrolled": false
   },
   "outputs": [],
   "source": [
    "y_train"
   ]
  },
  {
   "cell_type": "code",
   "execution_count": null,
   "metadata": {},
   "outputs": [],
   "source": [
    "def train_and_plot(model, X, y, save_model_2_file, save_fig_2_file):\n",
    "    history_object = train(model, X, y, save_model_2_file)\n",
    "    plot_loss(history_object, save_fig_2_file)\n",
    "    print(\"minimal validation loss: {:.5f}\".format(min(history_object.history['val_loss'])))"
   ]
  },
  {
   "cell_type": "code",
   "execution_count": null,
   "metadata": {
    "scrolled": false
   },
   "outputs": [],
   "source": [
    "train_and_plot(create_model_simple(), X_train, y_train, save_model_2_file='model_simple.h5', save_fig_2_file='examples/loss_model_simple.png')"
   ]
  },
  {
   "cell_type": "code",
   "execution_count": null,
   "metadata": {
    "scrolled": false
   },
   "outputs": [],
   "source": [
    "train_and_plot(create_model_LeNet(), X_train, y_train, 'model_lenet.h5', save_fig_2_file='examples/loss_model_lenet.png')"
   ]
  },
  {
   "cell_type": "code",
   "execution_count": null,
   "metadata": {
    "scrolled": false
   },
   "outputs": [],
   "source": [
    "train_and_plot(create_model_Nvidia(), X_train, y_train, 'model_nvidia.h5', save_fig_2_file='examples/loss_model_nvidia.png')"
   ]
  },
  {
   "cell_type": "code",
   "execution_count": null,
   "metadata": {},
   "outputs": [],
   "source": []
  }
 ],
 "metadata": {
  "kernelspec": {
   "display_name": "Python [conda env:carnd-term1]",
   "language": "python",
   "name": "conda-env-carnd-term1-py"
  },
  "language_info": {
   "codemirror_mode": {
    "name": "ipython",
    "version": 3
   },
   "file_extension": ".py",
   "mimetype": "text/x-python",
   "name": "python",
   "nbconvert_exporter": "python",
   "pygments_lexer": "ipython3",
   "version": "3.5.2"
  },
  "widgets": {
   "state": {},
   "version": "1.1.2"
  }
 },
 "nbformat": 4,
 "nbformat_minor": 1
}
